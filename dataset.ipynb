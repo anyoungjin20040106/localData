{
 "cells": [
  {
   "cell_type": "code",
   "execution_count": 27,
   "metadata": {},
   "outputs": [],
   "source": [
    "import pandas as pd\n",
    "import matplotlib.pyplot as plt\n",
    "plt.rcParams['font.family'] ='Malgun Gothic'\n",
    "plt.rcParams['axes.unicode_minus'] =False"
   ]
  },
  {
   "cell_type": "code",
   "execution_count": 28,
   "metadata": {},
   "outputs": [
    {
     "data": {
      "text/html": [
       "<div>\n",
       "<style scoped>\n",
       "    .dataframe tbody tr th:only-of-type {\n",
       "        vertical-align: middle;\n",
       "    }\n",
       "\n",
       "    .dataframe tbody tr th {\n",
       "        vertical-align: top;\n",
       "    }\n",
       "\n",
       "    .dataframe thead th {\n",
       "        text-align: right;\n",
       "    }\n",
       "</style>\n",
       "<table border=\"1\" class=\"dataframe\">\n",
       "  <thead>\n",
       "    <tr style=\"text-align: right;\">\n",
       "      <th></th>\n",
       "      <th>시도명</th>\n",
       "      <th>시군구명</th>\n",
       "      <th>위도</th>\n",
       "      <th>경도</th>\n",
       "    </tr>\n",
       "  </thead>\n",
       "  <tbody>\n",
       "    <tr>\n",
       "      <th>0</th>\n",
       "      <td>경기도</td>\n",
       "      <td>가평군</td>\n",
       "      <td>37.829691</td>\n",
       "      <td>127.506433</td>\n",
       "    </tr>\n",
       "    <tr>\n",
       "      <th>1</th>\n",
       "      <td>경기도</td>\n",
       "      <td>가평군</td>\n",
       "      <td>37.683315</td>\n",
       "      <td>127.491015</td>\n",
       "    </tr>\n",
       "    <tr>\n",
       "      <th>2</th>\n",
       "      <td>경기도</td>\n",
       "      <td>가평군</td>\n",
       "      <td>37.739591</td>\n",
       "      <td>127.424230</td>\n",
       "    </tr>\n",
       "    <tr>\n",
       "      <th>3</th>\n",
       "      <td>경기도</td>\n",
       "      <td>가평군</td>\n",
       "      <td>37.818290</td>\n",
       "      <td>127.352981</td>\n",
       "    </tr>\n",
       "    <tr>\n",
       "      <th>4</th>\n",
       "      <td>대전광역시</td>\n",
       "      <td>유성구</td>\n",
       "      <td>36.349268</td>\n",
       "      <td>127.330255</td>\n",
       "    </tr>\n",
       "    <tr>\n",
       "      <th>...</th>\n",
       "      <td>...</td>\n",
       "      <td>...</td>\n",
       "      <td>...</td>\n",
       "      <td>...</td>\n",
       "    </tr>\n",
       "    <tr>\n",
       "      <th>3792</th>\n",
       "      <td>경기도</td>\n",
       "      <td>평택시</td>\n",
       "      <td>36.996152</td>\n",
       "      <td>127.103199</td>\n",
       "    </tr>\n",
       "    <tr>\n",
       "      <th>3793</th>\n",
       "      <td>경기도</td>\n",
       "      <td>평택시</td>\n",
       "      <td>37.033340</td>\n",
       "      <td>127.099550</td>\n",
       "    </tr>\n",
       "    <tr>\n",
       "      <th>3794</th>\n",
       "      <td>경기도</td>\n",
       "      <td>평택시</td>\n",
       "      <td>37.066155</td>\n",
       "      <td>127.055729</td>\n",
       "    </tr>\n",
       "    <tr>\n",
       "      <th>3795</th>\n",
       "      <td>경기도</td>\n",
       "      <td>평택시</td>\n",
       "      <td>36.989362</td>\n",
       "      <td>126.847498</td>\n",
       "    </tr>\n",
       "    <tr>\n",
       "      <th>3796</th>\n",
       "      <td>전라북도</td>\n",
       "      <td>순창군</td>\n",
       "      <td>35.373735</td>\n",
       "      <td>127.140740</td>\n",
       "    </tr>\n",
       "  </tbody>\n",
       "</table>\n",
       "<p>3797 rows × 4 columns</p>\n",
       "</div>"
      ],
      "text/plain": [
       "        시도명 시군구명         위도          경도\n",
       "0       경기도  가평군  37.829691  127.506433\n",
       "1       경기도  가평군  37.683315  127.491015\n",
       "2       경기도  가평군  37.739591  127.424230\n",
       "3       경기도  가평군  37.818290  127.352981\n",
       "4     대전광역시  유성구  36.349268  127.330255\n",
       "...     ...  ...        ...         ...\n",
       "3792    경기도  평택시  36.996152  127.103199\n",
       "3793    경기도  평택시  37.033340  127.099550\n",
       "3794    경기도  평택시  37.066155  127.055729\n",
       "3795    경기도  평택시  36.989362  126.847498\n",
       "3796   전라북도  순창군  35.373735  127.140740\n",
       "\n",
       "[3797 rows x 4 columns]"
      ]
     },
     "execution_count": 28,
     "metadata": {},
     "output_type": "execute_result"
    }
   ],
   "source": [
    "df=pd.read_csv('전국도서관표준데이터.csv',encoding=\"EUC-KR\")\n",
    "df=df[['시도명','시군구명','위도','경도']]\n",
    "df"
   ]
  },
  {
   "cell_type": "code",
   "execution_count": 29,
   "metadata": {},
   "outputs": [
    {
     "ename": "SyntaxError",
     "evalue": "':' expected after dictionary key (593134949.py, line 2)",
     "output_type": "error",
     "traceback": [
      "\u001b[1;36m  Cell \u001b[1;32mIn[29], line 2\u001b[1;36m\u001b[0m\n\u001b[1;33m    df.rename(columns={'시군구명':\"지역명\",inplace=True})\u001b[0m\n\u001b[1;37m                                          ^\u001b[0m\n\u001b[1;31mSyntaxError\u001b[0m\u001b[1;31m:\u001b[0m ':' expected after dictionary key\n"
     ]
    }
   ],
   "source": [
    "df['시군구명']=df['시도명']+\" \"+df['시군구명']\n",
    "df.rename(columns={'시군구명':\"지역명\"},inplace=True)\n",
    "df"
   ]
  },
  {
   "cell_type": "code",
   "execution_count": null,
   "metadata": {},
   "outputs": [
    {
     "data": {
      "text/html": [
       "<div>\n",
       "<style scoped>\n",
       "    .dataframe tbody tr th:only-of-type {\n",
       "        vertical-align: middle;\n",
       "    }\n",
       "\n",
       "    .dataframe tbody tr th {\n",
       "        vertical-align: top;\n",
       "    }\n",
       "\n",
       "    .dataframe thead th {\n",
       "        text-align: right;\n",
       "    }\n",
       "</style>\n",
       "<table border=\"1\" class=\"dataframe\">\n",
       "  <thead>\n",
       "    <tr style=\"text-align: right;\">\n",
       "      <th></th>\n",
       "      <th>시도명</th>\n",
       "      <th>시군구명</th>\n",
       "      <th>위도</th>\n",
       "      <th>경도</th>\n",
       "    </tr>\n",
       "  </thead>\n",
       "  <tbody>\n",
       "    <tr>\n",
       "      <th>0</th>\n",
       "      <td>경기도</td>\n",
       "      <td>경기도 가평군</td>\n",
       "      <td>37.829691</td>\n",
       "      <td>127.506433</td>\n",
       "    </tr>\n",
       "    <tr>\n",
       "      <th>1</th>\n",
       "      <td>경기도</td>\n",
       "      <td>경기도 가평군</td>\n",
       "      <td>37.683315</td>\n",
       "      <td>127.491015</td>\n",
       "    </tr>\n",
       "    <tr>\n",
       "      <th>2</th>\n",
       "      <td>경기도</td>\n",
       "      <td>경기도 가평군</td>\n",
       "      <td>37.739591</td>\n",
       "      <td>127.424230</td>\n",
       "    </tr>\n",
       "    <tr>\n",
       "      <th>3</th>\n",
       "      <td>경기도</td>\n",
       "      <td>경기도 가평군</td>\n",
       "      <td>37.818290</td>\n",
       "      <td>127.352981</td>\n",
       "    </tr>\n",
       "    <tr>\n",
       "      <th>4</th>\n",
       "      <td>대전광역시</td>\n",
       "      <td>대전광역시 유성구</td>\n",
       "      <td>36.349268</td>\n",
       "      <td>127.330255</td>\n",
       "    </tr>\n",
       "    <tr>\n",
       "      <th>...</th>\n",
       "      <td>...</td>\n",
       "      <td>...</td>\n",
       "      <td>...</td>\n",
       "      <td>...</td>\n",
       "    </tr>\n",
       "    <tr>\n",
       "      <th>3792</th>\n",
       "      <td>경기도</td>\n",
       "      <td>경기도 평택시</td>\n",
       "      <td>36.996152</td>\n",
       "      <td>127.103199</td>\n",
       "    </tr>\n",
       "    <tr>\n",
       "      <th>3793</th>\n",
       "      <td>경기도</td>\n",
       "      <td>경기도 평택시</td>\n",
       "      <td>37.033340</td>\n",
       "      <td>127.099550</td>\n",
       "    </tr>\n",
       "    <tr>\n",
       "      <th>3794</th>\n",
       "      <td>경기도</td>\n",
       "      <td>경기도 평택시</td>\n",
       "      <td>37.066155</td>\n",
       "      <td>127.055729</td>\n",
       "    </tr>\n",
       "    <tr>\n",
       "      <th>3795</th>\n",
       "      <td>경기도</td>\n",
       "      <td>경기도 평택시</td>\n",
       "      <td>36.989362</td>\n",
       "      <td>126.847498</td>\n",
       "    </tr>\n",
       "    <tr>\n",
       "      <th>3796</th>\n",
       "      <td>전라북도</td>\n",
       "      <td>전라북도 순창군</td>\n",
       "      <td>35.373735</td>\n",
       "      <td>127.140740</td>\n",
       "    </tr>\n",
       "  </tbody>\n",
       "</table>\n",
       "<p>3552 rows × 4 columns</p>\n",
       "</div>"
      ],
      "text/plain": [
       "        시도명       시군구명         위도          경도\n",
       "0       경기도    경기도 가평군  37.829691  127.506433\n",
       "1       경기도    경기도 가평군  37.683315  127.491015\n",
       "2       경기도    경기도 가평군  37.739591  127.424230\n",
       "3       경기도    경기도 가평군  37.818290  127.352981\n",
       "4     대전광역시  대전광역시 유성구  36.349268  127.330255\n",
       "...     ...        ...        ...         ...\n",
       "3792    경기도    경기도 평택시  36.996152  127.103199\n",
       "3793    경기도    경기도 평택시  37.033340  127.099550\n",
       "3794    경기도    경기도 평택시  37.066155  127.055729\n",
       "3795    경기도    경기도 평택시  36.989362  126.847498\n",
       "3796   전라북도   전라북도 순창군  35.373735  127.140740\n",
       "\n",
       "[3552 rows x 4 columns]"
      ]
     },
     "execution_count": 24,
     "metadata": {},
     "output_type": "execute_result"
    }
   ],
   "source": [
    "df=df.dropna(subset=['위도'])\n",
    "df"
   ]
  },
  {
   "cell_type": "code",
   "execution_count": null,
   "metadata": {},
   "outputs": [],
   "source": [
    "df.to_csv('data.csv')"
   ]
  },
  {
   "cell_type": "code",
   "execution_count": null,
   "metadata": {},
   "outputs": [
    {
     "data": {
      "text/plain": [
       "<Axes: xlabel='경도', ylabel='위도'>"
      ]
     },
     "execution_count": 26,
     "metadata": {},
     "output_type": "execute_result"
    },
    {
     "data": {
      "image/png": "[encoded data removed]",
      "text/plain": [
       "<Figure size 640x480 with 1 Axes>"
      ]
     },
     "metadata": {},
     "output_type": "display_data"
    }
   ],
   "source": [
    "import seaborn as sns\n",
    "sns.scatterplot(df,x=df[\"경도\"],y=df[\"위도\"],hue=df[\"시도명\"])"
   ]
  }
 ],
 "metadata": {
  "kernelspec": {
   "display_name": "Python 3",
   "language": "python",
   "name": "python3"
  },
  "language_info": {
   "codemirror_mode": {
    "name": "ipython",
    "version": 3
   },
   "file_extension": ".py",
   "mimetype": "text/x-python",
   "name": "python",
   "nbconvert_exporter": "python",
   "pygments_lexer": "ipython3",
   "version": "3.12.3"
  }
 },
 "nbformat": 4,
 "nbformat_minor": 2
}
